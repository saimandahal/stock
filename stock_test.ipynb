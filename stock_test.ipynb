{
 "cells": [
  {
   "cell_type": "code",
   "execution_count": 6,
   "metadata": {
    "collapsed": true
   },
   "outputs": [],
   "source": [
    "import tkinter\n",
    "from bs4 import BeautifulSoup\n",
    "import requests \n",
    "import pandas as pd\n",
    "import datetime \n",
    "import csv\n",
    "import numpy as np\n",
    "from datetime import date\n",
    "\n",
    "here= tkinter.Tk()\n",
    "here.title(\"Stock List\")\n",
    "lb1=tkinter.Label(here, text= \"\").grid(row=0,column=1)\n",
    "lb1=tkinter.Label(here, text= \"File Name\").grid(row=1,column=1)\n",
    "tkinter.Entry(here).grid(row=1,column=2)\n",
    "lb1=tkinter.Label(here, text= \"\").grid(row=2,column=1)\n",
    "def click():\n",
    "    src= requests.get(\"https://www.sharesansar.com/today-share-price\").text\n",
    "    company_list=[]\n",
    "    open_stock_list=[]\n",
    "    soup=BeautifulSoup(src,'lxml')\n",
    "    tbl=soup.find('table' )\n",
    "    for stock in tbl.find_all('tbody'):\n",
    "      rows=stock.find_all('tr')\n",
    "      for row in rows:\n",
    "        company= row.find('a').text.strip()\n",
    "        open_stock=row.find_all('td', class_=\"text-center\")[1].text\n",
    "        company_list.append(company)\n",
    "        open_stock_list.append(open_stock)\n",
    "    l=len(company_list)\n",
    "    with open('file.csv','w') as new_file:\n",
    "        fieldnames=['Company','Close']\n",
    "        writer=csv.DictWriter(new_file, fieldnames= fieldnames)\n",
    "        writer.writeheader()\n",
    "        for i in range(l):\n",
    "          writer.writerow({'Company':company_list[i],'Close':open_stock_list[i]})\n",
    "        tkinter.Label(here,text=\"File Generated Successfully\").grid(row=3,column=0)\n",
    "\n",
    "tkinter.Button(text=\"Generate\", command=click).grid(row=3,column=2)\n",
    "here.geometry('300x300')\n",
    "here.mainloop()\n"
   ]
  },
  {
   "cell_type": "code",
   "execution_count": null,
   "metadata": {
    "collapsed": true
   },
   "outputs": [],
   "source": [
    "lb1"
   ]
  }
 ],
 "metadata": {
  "kernelspec": {
   "display_name": "Python 3",
   "language": "python",
   "name": "python3"
  },
  "language_info": {
   "codemirror_mode": {
    "name": "ipython",
    "version": 3
   },
   "file_extension": ".py",
   "mimetype": "text/x-python",
   "name": "python",
   "nbconvert_exporter": "python",
   "pygments_lexer": "ipython3",
   "version": "3.6.3"
  }
 },
 "nbformat": 4,
 "nbformat_minor": 2
}
